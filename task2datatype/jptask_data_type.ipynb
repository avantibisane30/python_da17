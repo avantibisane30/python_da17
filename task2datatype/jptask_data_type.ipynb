{
 "cells": [
  {
   "cell_type": "markdown",
   "id": "a67b05c9",
   "metadata": {},
   "source": [
    "# Data Type"
   ]
  },
  {
   "cell_type": "markdown",
   "id": "e6d58e38",
   "metadata": {},
   "source": [
    "### 1\\. Int"
   ]
  },
  {
   "cell_type": "code",
   "execution_count": 8,
   "id": "f4e1645d",
   "metadata": {},
   "outputs": [
    {
     "name": "stdout",
     "output_type": "stream",
     "text": [
      "totalFruit is <class 'int'> and value is '94'\n"
     ]
    }
   ],
   "source": [
    "mango = 50\n",
    "apple = 44\n",
    "\n",
    "totalFruit = mango+apple\n",
    "totalFruit\n",
    "\n",
    "print(f\"totalFruit is {type(totalFruit)} and value is '{totalFruit}'\")"
   ]
  },
  {
   "cell_type": "code",
   "execution_count": 9,
   "id": "6275801b",
   "metadata": {},
   "outputs": [
    {
     "name": "stdout",
     "output_type": "stream",
     "text": [
      "stationary is <class 'int'> and value is '60000'\n"
     ]
    }
   ],
   "source": [
    "pen = 100\n",
    "pencil = 600\n",
    "\n",
    "stationary = pen*pencil\n",
    "stationary\n",
    "\n",
    "print(f\"stationary is {type(stationary)} and value is '{stationary}'\")\n"
   ]
  },
  {
   "cell_type": "code",
   "execution_count": 10,
   "id": "0016d4e1",
   "metadata": {},
   "outputs": [
    {
     "name": "stdout",
     "output_type": "stream",
     "text": [
      "furniture is <class 'int'> and value is '920'\n"
     ]
    }
   ],
   "source": [
    "tables = 23\n",
    "chairs = 40\n",
    "\n",
    "furniture = tables*chairs\n",
    "\n",
    "print(f\"furniture is {type(furniture)} and value is '{furniture}'\")\n"
   ]
  },
  {
   "cell_type": "code",
   "execution_count": 14,
   "id": "b79fdb62",
   "metadata": {},
   "outputs": [
    {
     "name": "stdout",
     "output_type": "stream",
     "text": [
      "All is <class 'int'> and value is '155'\n"
     ]
    }
   ],
   "source": [
    "birds = 90\n",
    "animals = 55\n",
    "reptiles =10\n",
    "\n",
    "All = birds + animals + reptiles\n",
    "\n",
    "print(f\"All is {type(All)} and value is '{All}'\")\n"
   ]
  },
  {
   "cell_type": "code",
   "execution_count": 16,
   "id": "d40dc438",
   "metadata": {},
   "outputs": [
    {
     "name": "stdout",
     "output_type": "stream",
     "text": [
      "allPlanets = <class 'int'> and value = '3'\n"
     ]
    }
   ],
   "source": [
    "earth = 1\n",
    "moon = 1\n",
    "sun = 1\n",
    "\n",
    "allPlanets = earth + moon + sun\n",
    "\n",
    "print(f\"allPlanets = {type(allPlanets)} and value = '{allPlanets}'\")\n"
   ]
  },
  {
   "cell_type": "code",
   "execution_count": 17,
   "id": "bd83430d",
   "metadata": {},
   "outputs": [
    {
     "name": "stdout",
     "output_type": "stream",
     "text": [
      "dynamicSamples = <class 'int'> and value = '44'\n"
     ]
    }
   ],
   "source": [
    "sample1 = 50\n",
    "sample2 = 4\n",
    "sample3 = 2\n",
    "\n",
    "dynamicSamples = sample1 - sample2 - sample3\n",
    "\n",
    "print(f\"dynamicSamples = {type(dynamicSamples)} and value = '{dynamicSamples}'\")\n"
   ]
  },
  {
   "cell_type": "code",
   "execution_count": 20,
   "id": "205013ed",
   "metadata": {},
   "outputs": [
    {
     "name": "stdout",
     "output_type": "stream",
     "text": [
      "divide = <class 'int'> and value = '0'\n"
     ]
    }
   ],
   "source": [
    "student1 = 44\n",
    "student2 = 11\n",
    "\n",
    "divide = student1%student2\n",
    "\n",
    "print(f\"divide = {type(divide)} and value = '{divide}'\")\n"
   ]
  },
  {
   "cell_type": "code",
   "execution_count": 21,
   "id": "acb4fa1b",
   "metadata": {},
   "outputs": [
    {
     "name": "stdout",
     "output_type": "stream",
     "text": [
      "total = <class 'int'> and value = '30'\n"
     ]
    }
   ],
   "source": [
    "solvent = 20\n",
    "solution = 10\n",
    "\n",
    "total = solvent + solution\n",
    "\n",
    "print(f\"total = {type(total)} and value = '{total}'\")\n"
   ]
  },
  {
   "cell_type": "code",
   "execution_count": 22,
   "id": "c528e70e",
   "metadata": {},
   "outputs": [
    {
     "name": "stdout",
     "output_type": "stream",
     "text": [
      "mulProduct = <class 'int'> and Multiplication = '9900'\n"
     ]
    }
   ],
   "source": [
    "product1 = 99\n",
    "product2 = 100\n",
    "\n",
    "mulProduct = product1 * product2\n",
    "\n",
    "print(f\"mulProduct = {type(mulProduct)} and Multiplication = '{mulProduct}'\")\n"
   ]
  },
  {
   "cell_type": "code",
   "execution_count": 23,
   "id": "093979aa",
   "metadata": {},
   "outputs": [
    {
     "name": "stdout",
     "output_type": "stream",
     "text": [
      "mod = <class 'int'> and Module = '0'\n"
     ]
    }
   ],
   "source": [
    "cakes = 400\n",
    "cream = 2\n",
    "\n",
    "mod = cakes % cream\n",
    "\n",
    "print(f\"mod = {type(mod)} and Module = '{mod}'\")\n"
   ]
  },
  {
   "cell_type": "code",
   "execution_count": 2,
   "id": "0b386578",
   "metadata": {},
   "outputs": [
    {
     "name": "stdout",
     "output_type": "stream",
     "text": [
      "1 The value is 678 and The type is <class 'int'>\n",
      "2 The value is 67 and The type is <class 'int'>\n",
      "3 The value is 500 and The type is <class 'int'>\n",
      "4-The value is 457 and The type is <class 'int'>\n",
      "5-The value is 189 and The type is <class 'int'>\n",
      "6-The value is 467 and The type is <class 'int'>\n",
      "7-The value is 100 and The type is <class 'int'>\n",
      "8-The value is 800 and The type is <class 'int'>\n",
      "9-The value is 612 and The type is <class 'int'>\n",
      "10-The value is 634 and The type is <class 'int'>\n"
     ]
    }
   ],
   "source": [
    "item1=678\n",
    "print(f\"1 The value is {item1} and The type is {type(item1)}\")\n",
    "item1=67\n",
    "print(f\"2 The value is {item1} and The type is {type(item1)}\")\n",
    "item1=500\n",
    "print(f\"3 The value is {item1} and The type is {type(item1)}\")\n",
    "item1=457\n",
    "print(f\"4-The value is {item1} and The type is {type(item1)}\")\n",
    "item1=189\n",
    "print(f\"5-The value is {item1} and The type is {type(item1)}\")\n",
    "item1=467\n",
    "print(f\"6-The value is {item1} and The type is {type(item1)}\")\n",
    "item1=100\n",
    "print(f\"7-The value is {item1} and The type is {type(item1)}\")\n",
    "item1=800\n",
    "print(f\"8-The value is {item1} and The type is {type(item1)}\")\n",
    "item1=612\n",
    "print(f\"9-The value is {item1} and The type is {type(item1)}\")\n",
    "item1=634\n",
    "print(f\"10-The value is {item1} and The type is {type(item1)}\")\n",
    "item1=567"
   ]
  },
  {
   "cell_type": "code",
   "execution_count": 4,
   "id": "f07783d3",
   "metadata": {},
   "outputs": [
    {
     "name": "stdout",
     "output_type": "stream",
     "text": [
      "11.The value of The is 12 and the Data types of The is <class 'int'>\n",
      "12.The value of Nandu is 34 and the data types of Nandu is <class 'int'>\n",
      "13.The value of YY is 67 and the Data types of YY is <class 'int'>\n",
      "14.The value of harsh is 9 and the data types of harsh is <class 'int'>\n",
      "15.The data types of CSE is <class 'int'> and the value of CSE is 775\n",
      "16.The value of Ganesh is 1 and the Data types of Ganesh is <class 'int'>\n",
      "17.The value of Sonam is 90 and the data types of Sonam is <class 'int'>\n",
      "18.The value of Avanti is 99 and the Data types of Avanti is <class 'int'>\n",
      "19.The value of Prathamesh is 12 and the data types of Prathamesh is <class 'int'>\n",
      "20.The data types of rekha is <class 'int'> and the value of rekha is 22\n"
     ]
    }
   ],
   "source": [
    "Om =12\n",
    "print(f\"11.The value of The is {Om} and the Data types of The is {type(Om)}\")\n",
    "\n",
    "Nandu=34\n",
    "print(f\"12.The value of Nandu is {Nandu} and the data types of Nandu is {type(Nandu)}\")\n",
    "\n",
    "YY=67\n",
    "print(f\"13.The value of YY is {YY} and the Data types of YY is {type(YY)}\")\n",
    "\n",
    "harsh=9\n",
    "print(f\"14.The value of harsh is {harsh} and the data types of harsh is {type(harsh)}\")\n",
    "\n",
    "CSE=775\n",
    "print(f\"15.The data types of CSE is {type(CSE)} and the value of CSE is {CSE}\")\n",
    "\n",
    "Ganesh =1\n",
    "print(f\"16.The value of Ganesh is {Ganesh} and the Data types of Ganesh is {type(Ganesh)}\")\n",
    "\n",
    "Sonam=90\n",
    "print(f\"17.The value of Sonam is {Sonam} and the data types of Sonam is {type(Sonam)}\")\n",
    "\n",
    "Avanti=99\n",
    "print(f\"18.The value of Avanti is {Avanti} and the Data types of Avanti is {type(Avanti)}\")\n",
    "\n",
    "Prathamesh=12\n",
    "print(f\"19.The value of Prathamesh is {Prathamesh} and the data types of Prathamesh is {type(Prathamesh)}\")\n",
    "\n",
    "rekha=22\n",
    "print(f\"20.The data types of rekha is {type(rekha)} and the value of rekha is {rekha}\")"
   ]
  },
  {
   "cell_type": "code",
   "execution_count": 8,
   "id": "61a6946c",
   "metadata": {},
   "outputs": [
    {
     "name": "stdout",
     "output_type": "stream",
     "text": [
      "21. The type of speed is <class 'int'> and the value is 60\n",
      "22 .The type of hours is <class 'int'> and the value is 8\n",
      "23. The type of minutes is <class 'int'> and the value is 45\n",
      "24. The type of seconds is <class 'int'> and the value is 30\n",
      "25. The type of notebooks is <class 'int'> and the value is 5\n",
      "26. The type of errors is <class 'int'> and the value is 0\n",
      "27. The type of attempts is <class 'int'> and the value is 2\n",
      "28. The type of rating is <class 'int'> and the value is 4\n",
      "29. The type of votes is <class 'int'> and the value is 146\n",
      "30.The type of likes is <class 'int'> and the value is 2100\n"
     ]
    }
   ],
   "source": [
    "speed = 60\n",
    "print(f\"21. The type of speed is {type(speed)} and the value is {speed}\")\n",
    "\n",
    "hours = 8\n",
    "print(f\"22 .The type of hours is {type(hours)} and the value is {hours}\")\n",
    "\n",
    "minutes = 45\n",
    "print(f\"23. The type of minutes is {type(minutes)} and the value is {minutes}\")\n",
    "\n",
    "seconds = 30\n",
    "print(f\"24. The type of seconds is {type(seconds)} and the value is {seconds}\")\n",
    "\n",
    "notebooks = 5\n",
    "print(f\"25. The type of notebooks is {type(notebooks)} and the value is {notebooks}\")\n",
    "\n",
    "errors = 0\n",
    "print(f\"26. The type of errors is {type(errors)} and the value is {errors}\")\n",
    "\n",
    "attempts = 2\n",
    "print(f\"27. The type of attempts is {type(attempts)} and the value is {attempts}\")\n",
    "\n",
    "rating = 4\n",
    "print(f\"28. The type of rating is {type(rating)} and the value is {rating}\")\n",
    "\n",
    "votes = 146\n",
    "print(f\"29. The type of votes is {type(votes)} and the value is {votes}\")\n",
    "\n",
    "likes = 2100\n",
    "print(f\"30.The type of likes is {type(likes)} and the value is {likes}\")\n"
   ]
  },
  {
   "cell_type": "code",
   "execution_count": 9,
   "id": "4bfc2bbb",
   "metadata": {},
   "outputs": [
    {
     "name": "stdout",
     "output_type": "stream",
     "text": [
      "31. The type of roll_number is <class 'int'> and the value is 67\n",
      "32. The type of marks is <class 'int'> and the value is 89\n",
      "33. The type of age is <class 'int'> and the value is 21\n",
      "34. The type of rank is <class 'int'> and the value is 4\n",
      "35. The type of height_cm is <class 'int'> and the value is 170\n",
      "36. The type of year is <class 'int'> and the value is 2025\n",
      "37. The type of price is <class 'int'> and the value is 499\n",
      "38. The type of quantity is <class 'int'> and the value is 3\n",
      "39. The type of day is <class 'int'> and the value is 19\n",
      "40. The type of month is <class 'int'> and the value is 6\n"
     ]
    }
   ],
   "source": [
    "roll_number = 67\n",
    "print(f\"31. The type of roll_number is {type(roll_number)} and the value is {roll_number}\")\n",
    "\n",
    "marks = 89\n",
    "print(f\"32. The type of marks is {type(marks)} and the value is {marks}\")\n",
    "\n",
    "age = 21\n",
    "print(f\"33. The type of age is {type(age)} and the value is {age}\")\n",
    "\n",
    "rank = 4\n",
    "print(f\"34. The type of rank is {type(rank)} and the value is {rank}\")\n",
    "\n",
    "height_cm = 170\n",
    "print(f\"35. The type of height_cm is {type(height_cm)} and the value is {height_cm}\")\n",
    "\n",
    "year = 2025\n",
    "print(f\"36. The type of year is {type(year)} and the value is {year}\")\n",
    "\n",
    "price = 499\n",
    "print(f\"37. The type of price is {type(price)} and the value is {price}\")\n",
    "\n",
    "quantity = 3\n",
    "print(f\"38. The type of quantity is {type(quantity)} and the value is {quantity}\")\n",
    "\n",
    "day = 19\n",
    "print(f\"39. The type of day is {type(day)} and the value is {day}\")\n",
    "\n",
    "month = 6\n",
    "print(f\"40. The type of month is {type(month)} and the value is {month}\")\n"
   ]
  },
  {
   "cell_type": "markdown",
   "id": "a7b8b4c4",
   "metadata": {},
   "source": [
    "### 2\\. str"
   ]
  },
  {
   "cell_type": "code",
   "execution_count": 13,
   "id": "78873ff9",
   "metadata": {},
   "outputs": [
    {
     "name": "stdout",
     "output_type": "stream",
     "text": [
      "The type of s1 is <class 'str'> and the value is 'Hi'\n",
      "The type of s1 is <class 'str'> and the value is 'Hi'\n",
      "The type of s1 is <class 'str'> and the value is 'Hi'\n",
      "The type of s1 is <class 'str'> and the value is 'Hi'\n",
      "The type of s1 is <class 'str'> and the value is 'Hi'\n",
      "The type of s1 is <class 'str'> and the value is 'Hi'\n",
      "The type of s1 is <class 'str'> and the value is 'Hi'\n",
      "The type of s1 is <class 'str'> and the value is 'Hi'\n",
      "The type of s1 is <class 'str'> and the value is 'Hi'\n",
      "The type of s1 is <class 'str'> and the value is 'Hi'\n",
      "The type of s1 is <class 'str'> and the value is 'Hi'\n",
      "The type of s1 is <class 'str'> and the value is 'Hi'\n",
      "The type of s1 is <class 'str'> and the value is 'Hi'\n",
      "The type of s1 is <class 'str'> and the value is 'Hi'\n",
      "The type of s1 is <class 'str'> and the value is 'Hi'\n",
      "The type of s1 is <class 'str'> and the value is 'Hi'\n",
      "The type of s1 is <class 'str'> and the value is 'Hi'\n",
      "The type of s1 is <class 'str'> and the value is 'Hi'\n",
      "The type of s1 is <class 'str'> and the value is 'Hi'\n",
      "The type of s1 is <class 'str'> and the value is 'Hi'\n",
      "The type of s1 is <class 'str'> and the value is 'Hi'\n",
      "The type of s1 is <class 'str'> and the value is 'Hi'\n",
      "The type of s1 is <class 'str'> and the value is 'Hi'\n",
      "The type of s1 is <class 'str'> and the value is 'Hi'\n",
      "The type of s1 is <class 'str'> and the value is 'Hi'\n",
      "The type of s1 is <class 'str'> and the value is 'Hi'\n",
      "The type of s1 is <class 'str'> and the value is 'Hi'\n",
      "The type of s1 is <class 'str'> and the value is 'Hi'\n",
      "The type of s1 is <class 'str'> and the value is 'Hi'\n",
      "The type of s1 is <class 'str'> and the value is 'Hi'\n",
      "The type of s1 is <class 'str'> and the value is 'Hi'\n",
      "The type of s1 is <class 'str'> and the value is 'Hi'\n",
      "The type of s1 is <class 'str'> and the value is 'Hi'\n",
      "The type of s1 is <class 'str'> and the value is 'Hi'\n",
      "The type of s1 is <class 'str'> and the value is 'Hi'\n",
      "The type of s1 is <class 'str'> and the value is 'Hi'\n",
      "The type of s1 is <class 'str'> and the value is 'Hi'\n",
      "The type of s1 is <class 'str'> and the value is 'Hi'\n",
      "The type of s1 is <class 'str'> and the value is 'Hi'\n",
      "The type of s1 is <class 'str'> and the value is 'Hi'\n",
      "The type of s1 is <class 'str'> and the value is 'Hi'\n",
      "The type of s1 is <class 'str'> and the value is 'Hi'\n",
      "The type of s1 is <class 'str'> and the value is 'Hi'\n",
      "The type of s1 is <class 'str'> and the value is 'Hi'\n",
      "The type of s1 is <class 'str'> and the value is 'Hi'\n",
      "The type of s1 is <class 'str'> and the value is 'Hi'\n",
      "The type of s1 is <class 'str'> and the value is 'Hi'\n",
      "The type of s1 is <class 'str'> and the value is 'Hi'\n",
      "The type of s1 is <class 'str'> and the value is 'Hi'\n",
      "The type of s50 is <class 'str'> and the value is 'This is a very long string used to demonstrate a string data type in Python. It can be as long as needed.'\n"
     ]
    }
   ],
   "source": [
    "\n",
    "s1 = \"Hi\"\n",
    "print(f\"The type of s1 is {type(s1)} and the value is '{s1}'\")\n",
    "\n",
    "s2 = 'World'\n",
    "print(f\"The type of s1 is {type(s1)} and the value is '{s1}'\")\n",
    "\n",
    "s3 = \"12345\"\n",
    "print(f\"The type of s1 is {type(s1)} and the value is '{s1}'\")\n",
    "\n",
    "s4 = \"True\"\n",
    "print(f\"The type of s1 is {type(s1)} and the value is '{s1}'\")\n",
    "\n",
    "s5 = \"None\"\n",
    "print(f\"The type of s1 is {type(s1)} and the value is '{s1}'\")\n",
    "\n",
    "s6 = \"IOTA\"\n",
    "print(f\"The type of s1 is {type(s1)} and the value is '{s1}'\")\n",
    "\n",
    "s7 = \"AI\"\n",
    "print(f\"The type of s1 is {type(s1)} and the value is '{s1}'\")\n",
    "\n",
    "s8 = \"Software testing\"\n",
    "print(f\"The type of s1 is {type(s1)} and the value is '{s1}'\")\n",
    "\n",
    "s9 = \"Earth Rotating\"\n",
    "print(f\"The type of s1 is {type(s1)} and the value is '{s1}'\")\n",
    "\n",
    "s10 = \"Line1Line2\"\n",
    "print(f\"The type of s1 is {type(s1)} and the value is '{s1}'\")\n",
    "\n",
    "s11 = \"Tab Separated\"\n",
    "print(f\"The type of s1 is {type(s1)} and the value is '{s1}'\")\n",
    "\n",
    "s12 = \"He said slowly\"\n",
    "print(f\"The type of s1 is {type(s1)} and the value is '{s1}'\")\n",
    "\n",
    "s13 = \"Raining today\"\n",
    "print(f\"The type of s1 is {type(s1)} and the value is '{s1}'\")\n",
    "\n",
    "s14 = \"Cafe\"\n",
    "print(f\"The type of s1 is {type(s1)} and the value is '{s1}'\")\n",
    "\n",
    "s15 = \"India\"\n",
    "print(f\"The type of s1 is {type(s1)} and the value is '{s1}'\")\n",
    "\n",
    "s16 = \"smile\"\n",
    "print(f\"The type of s1 is {type(s1)} and the value is '{s1}'\")\n",
    "\n",
    "s17 = \"naïve\"\n",
    "print(f\"The type of s1 is {type(s1)} and the value is '{s1}'\")\n",
    "\n",
    "s18 = \"façade\"\n",
    "print(f\"The type of s1 is {type(s1)} and the value is '{s1}'\")\n",
    "\n",
    "s19 = \"Price: $100\"\n",
    "print(f\"The type of s1 is {type(s1)} and the value is '{s1}'\")\n",
    "\n",
    "s20 = \"3.14159\"\n",
    "print(f\"The type of s1 is {type(s1)} and the value is '{s1}'\")\n",
    "\n",
    "s21 = \"#hashtag\"\n",
    "print(f\"The type of s1 is {type(s1)} and the value is '{s1}'\")\n",
    "\n",
    "s22 = \"email@example.com\"\n",
    "print(f\"The type of s1 is {type(s1)} and the value is '{s1}'\")\n",
    "\n",
    "s23 = \"Hello\"\n",
    "print(f\"The type of s1 is {type(s1)} and the value is '{s1}'\")\n",
    "\n",
    "s24 = \"Python\"\n",
    "print(f\"The type of s1 is {type(s1)} and the value is '{s1}'\")\n",
    "\n",
    "s25 = \"Sorry\"\n",
    "print(f\"The type of s1 is {type(s1)} and the value is '{s1}'\")\n",
    "\n",
    "s26 = \"CSE\"\n",
    "print(f\"The type of s1 is {type(s1)} and the value is '{s1}'\")\n",
    "\n",
    "s27 = \"Fighter\"\n",
    "print(f\"The type of s1 is {type(s1)} and the value is '{s1}'\")\n",
    "\n",
    "s28 = \"Answer\"\n",
    "print(f\"The type of s1 is {type(s1)} and the value is '{s1}'\")\n",
    "\n",
    "s29 = \"Alice\"\n",
    "print(f\"The type of s1 is {type(s1)} and the value is '{s1}'\")\n",
    "\n",
    "s30 = f\"My name is {name} and I am {age} years old\"\n",
    "print(f\"The type of s1 is {type(s1)} and the value is '{s1}'\")\n",
    "\n",
    "s31 = \"om is 4 years old\"\n",
    "print(f\"The type of s1 is {type(s1)} and the value is '{s1}'\")\n",
    "\n",
    "s32 = \"abcdef\"\n",
    "print(f\"The type of s1 is {type(s1)} and the value is '{s1}'\")\n",
    "\n",
    "s33 = \"abcdef\"\n",
    "print(f\"The type of s1 is {type(s1)} and the value is '{s1}'\")\n",
    "\n",
    "s34 = \"padded\"\n",
    "print(f\"The type of s1 is {type(s1)} and the value is '{s1}'\")\n",
    "\n",
    "s35 = \"whitespace\"\n",
    "print(f\"The type of s1 is {type(s1)} and the value is '{s1}'\")\n",
    "\n",
    "s36 = \"UPPERCASE\"\n",
    "print(f\"The type of s1 is {type(s1)} and the value is '{s1}'\")\n",
    "\n",
    "s37 = \"lowercase\"\n",
    "print(f\"The type of s1 is {type(s1)} and the value is '{s1}'\")\n",
    "\n",
    "s38 = \"Title Case\"\n",
    "print(f\"The type of s1 is {type(s1)} and the value is '{s1}'\")\n",
    "\n",
    "s39 = \"Hello, world!\"\n",
    "print(f\"The type of s1 is {type(s1)} and the value is '{s1}'\")\n",
    "\n",
    "s40 = \"Wait... what\"\n",
    "print(f\"The type of s1 is {type(s1)} and the value is '{s1}'\")\n",
    "\n",
    "s41 = \"5 + 3 = 8\"\n",
    "print(f\"The type of s1 is {type(s1)} and the value is '{s1}'\")\n",
    "\n",
    "s42 = \"√25 = 5\"\n",
    "print(f\"The type of s1 is {type(s1)} and the value is '{s1}'\")\n",
    "\n",
    "s43 = \"UsersNameDocuments\"\n",
    "print(f\"The type of s1 is {type(s1)} and the value is '{s1}'\")\n",
    "\n",
    "s44 = \"/home/user/documents\"\n",
    "print(f\"The type of s1 is {type(s1)} and the value is '{s1}'\")\n",
    "\n",
    "s45 = \"<html><body>Hello</body></html>\"\n",
    "print(f\"The type of s1 is {type(s1)} and the value is '{s1}'\")\n",
    "\n",
    "s46 = '{\"name\": \"Alice\", \"age\": 30}'\n",
    "print(f\"The type of s1 is {type(s1)} and the value is '{s1}'\")\n",
    "\n",
    "s47 = \"def greet(): return 'Hello'\"\n",
    "print(f\"The type of s1 is {type(s1)} and the value is '{s1}'\")\n",
    "\n",
    "s48 = \"2025-06-21\"\n",
    "print(f\"The type of s1 is {type(s1)} and the value is '{s1}'\")\n",
    "\n",
    "s49 = \"June 21, 2025\"\n",
    "print(f\"The type of s1 is {type(s1)} and the value is '{s1}'\")\n",
    "\n",
    "s50 = \"This is a very long string used to demonstrate a string data type in Python. It can be as long as needed.\"\n",
    "print(f\"The type of s50 is {type(s50)} and the value is '{s50}'\")"
   ]
  },
  {
   "cell_type": "markdown",
   "id": "b5405b5b",
   "metadata": {},
   "source": [
    "### 3\\. Float"
   ]
  }
 ],
 "metadata": {
  "kernelspec": {
   "display_name": "Python 3",
   "language": "python",
   "name": "python3"
  },
  "language_info": {
   "codemirror_mode": {
    "name": "ipython",
    "version": 3
   },
   "file_extension": ".py",
   "mimetype": "text/x-python",
   "name": "python",
   "nbconvert_exporter": "python",
   "pygments_lexer": "ipython3",
   "version": "3.9.12"
  }
 },
 "nbformat": 4,
 "nbformat_minor": 5
}
